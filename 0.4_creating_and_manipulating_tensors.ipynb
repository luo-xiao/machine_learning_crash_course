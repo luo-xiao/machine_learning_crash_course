{
  "nbformat": 4,
  "nbformat_minor": 0,
  "metadata": {
    "colab": {
      "name": "creating_and_manipulating_tensors.ipynb",
      "version": "0.3.2",
      "provenance": [],
      "collapsed_sections": [
        "JndnmDMp66FL",
        "7d1kfAx4QL17",
        "EYzU56M4MG_x",
        "Kt7aojXkR_qS"
      ],
      "include_colab_link": true
    }
  },
  "cells": [
    {
      "cell_type": "markdown",
      "metadata": {
        "id": "view-in-github",
        "colab_type": "text"
      },
      "source": [
        "<a href=\"https://colab.research.google.com/github/luo-xiao/machine_learning_crash_course/blob/master/0.4_creating_and_manipulating_tensors.ipynb\" target=\"_parent\"><img src=\"https://colab.research.google.com/assets/colab-badge.svg\" alt=\"Open In Colab\"/></a>"
      ]
    },
    {
      "metadata": {
        "colab_type": "text",
        "id": "JndnmDMp66FL"
      },
      "cell_type": "markdown",
      "source": [
        "#### Copyright 2017 Google LLC."
      ]
    },
    {
      "metadata": {
        "colab_type": "code",
        "id": "hMqWDc_m6rUC",
        "cellView": "both",
        "colab": {}
      },
      "cell_type": "code",
      "source": [
        "# Licensed under the Apache License, Version 2.0 (the \"License\");\n",
        "# you may not use this file except in compliance with the License.\n",
        "# You may obtain a copy of the License at\n",
        "#\n",
        "# https://www.apache.org/licenses/LICENSE-2.0\n",
        "#\n",
        "# Unless required by applicable law or agreed to in writing, software\n",
        "# distributed under the License is distributed on an \"AS IS\" BASIS,\n",
        "# WITHOUT WARRANTIES OR CONDITIONS OF ANY KIND, either express or implied.\n",
        "# See the License for the specific language governing permissions and\n",
        "# limitations under the License."
      ],
      "execution_count": 0,
      "outputs": []
    },
    {
      "metadata": {
        "colab_type": "text",
        "id": "P0bQXjp499sl"
      },
      "cell_type": "markdown",
      "source": [
        "# Creating and Manipulating Tensors"
      ]
    },
    {
      "metadata": {
        "colab_type": "text",
        "id": "I3BCiWJiCGsv"
      },
      "cell_type": "markdown",
      "source": [
        "**Learning Objectives:**\n",
        "  * Initialize and assign TensorFlow `Variable`s\n",
        "  * Create and manipulate tensors\n",
        "  * Refresh your memory about addition and multiplication in linear algebra (consult an introduction to matrix [addition](https://en.wikipedia.org/wiki/Matrix_addition) and [multiplication](https://en.wikipedia.org/wiki/Matrix_multiplication) if these topics are new to you)\n",
        "  * Familiarize yourself with basic TensorFlow math and array operations"
      ]
    },
    {
      "metadata": {
        "colab_type": "code",
        "id": "85evKRsOIC5a",
        "colab": {
          "base_uri": "https://localhost:8080/",
          "height": 34
        },
        "outputId": "633efcba-cd61-45bb-ac8c-2e7a69543a77"
      },
      "cell_type": "code",
      "source": [
        "from __future__ import print_function\n",
        "\n",
        "import tensorflow as tf\n",
        "try:\n",
        "  tf.contrib.eager.enable_eager_execution()\n",
        "  print(\"TF imported with eager execution!\")\n",
        "except ValueError:\n",
        "  print(\"TF already imported with eager execution!\")"
      ],
      "execution_count": 5,
      "outputs": [
        {
          "output_type": "stream",
          "text": [
            "TF already imported with eager execution!\n"
          ],
          "name": "stdout"
        }
      ]
    },
    {
      "metadata": {
        "colab_type": "text",
        "id": "PT1sorfH-DdQ"
      },
      "cell_type": "markdown",
      "source": [
        "## Vector Addition\n",
        "\n",
        "You can perform many typical mathematical operations on tensors ([TF API](https://www.tensorflow.org/api_guides/python/math_ops)). The code below creates the following vectors (1-D tensors), all having exactly six elements:\n",
        "\n",
        "*  A `primes` vector containing prime numbers.\n",
        "*  A `ones` vector containing all `1` values.\n",
        "* A vector created by performing element-wise addition over the first two vectors.\n",
        "* A vector created by doubling the elements in the `primes` vector."
      ]
    },
    {
      "metadata": {
        "colab_type": "code",
        "id": "ng37e6ur-GZo",
        "colab": {
          "base_uri": "https://localhost:8080/",
          "height": 84
        },
        "outputId": "2841db90-4727-45ca-b796-685d74ddb061"
      },
      "cell_type": "code",
      "source": [
        "primes = tf.constant([2, 3, 5, 7, 11, 13], dtype=tf.int32)\n",
        "print(\"primes:\", primes\n",
        ")\n",
        "ones = tf.ones([6], dtype=tf.int32)\n",
        "print(\"ones:\", ones)\n",
        "\n",
        "just_beyond_primes = tf.add(primes, ones)\n",
        "print(\"just_beyond_primes:\", just_beyond_primes)\n",
        "\n",
        "twos = tf.constant([2, 2, 2, 2, 2, 2], dtype=tf.int32)\n",
        "primes_doubled = primes * twos\n",
        "print(\"primes_doubled:\", primes_doubled)"
      ],
      "execution_count": 6,
      "outputs": [
        {
          "output_type": "stream",
          "text": [
            "primes: Tensor(\"Const:0\", shape=(6,), dtype=int32)\n",
            "ones: Tensor(\"ones:0\", shape=(6,), dtype=int32)\n",
            "just_beyond_primes: Tensor(\"Add:0\", shape=(6,), dtype=int32)\n",
            "primes_doubled: Tensor(\"mul:0\", shape=(6,), dtype=int32)\n"
          ],
          "name": "stdout"
        }
      ]
    },
    {
      "metadata": {
        "colab_type": "text",
        "id": "whbEUNguEAt2"
      },
      "cell_type": "markdown",
      "source": [
        "Printing a tensor returns not only its value, but also its shape (discussed in the next section) and the type of value stored in the tensor.  Calling the `numpy` method of a tensor returns the value of the tensor as a numpy array:"
      ]
    },
    {
      "metadata": {
        "colab_type": "code",
        "id": "Dz4i5c88GRwJ",
        "colab": {
          "base_uri": "https://localhost:8080/",
          "height": 213
        },
        "outputId": "9d5681d9-cd6e-445b-a67c-ca00ca6be7e7"
      },
      "cell_type": "code",
      "source": [
        "some_matrix = tf.constant([[1, 2, 3], [4, 5, 6]], dtype=tf.int32)\n",
        "print(some_matrix)\n",
        "print(\"\\nvalue of some_matrix is:\\n\", some_matrix.numpy())"
      ],
      "execution_count": 7,
      "outputs": [
        {
          "output_type": "stream",
          "text": [
            "Tensor(\"Const_2:0\", shape=(2, 3), dtype=int32)\n"
          ],
          "name": "stdout"
        },
        {
          "output_type": "error",
          "ename": "AttributeError",
          "evalue": "ignored",
          "traceback": [
            "\u001b[0;31m\u001b[0m",
            "\u001b[0;31mAttributeError\u001b[0mTraceback (most recent call last)",
            "\u001b[0;32m<ipython-input-7-ce291f861002>\u001b[0m in \u001b[0;36m<module>\u001b[0;34m()\u001b[0m\n\u001b[1;32m      1\u001b[0m \u001b[0msome_matrix\u001b[0m \u001b[0;34m=\u001b[0m \u001b[0mtf\u001b[0m\u001b[0;34m.\u001b[0m\u001b[0mconstant\u001b[0m\u001b[0;34m(\u001b[0m\u001b[0;34m[\u001b[0m\u001b[0;34m[\u001b[0m\u001b[0;36m1\u001b[0m\u001b[0;34m,\u001b[0m \u001b[0;36m2\u001b[0m\u001b[0;34m,\u001b[0m \u001b[0;36m3\u001b[0m\u001b[0;34m]\u001b[0m\u001b[0;34m,\u001b[0m \u001b[0;34m[\u001b[0m\u001b[0;36m4\u001b[0m\u001b[0;34m,\u001b[0m \u001b[0;36m5\u001b[0m\u001b[0;34m,\u001b[0m \u001b[0;36m6\u001b[0m\u001b[0;34m]\u001b[0m\u001b[0;34m]\u001b[0m\u001b[0;34m,\u001b[0m \u001b[0mdtype\u001b[0m\u001b[0;34m=\u001b[0m\u001b[0mtf\u001b[0m\u001b[0;34m.\u001b[0m\u001b[0mint32\u001b[0m\u001b[0;34m)\u001b[0m\u001b[0;34m\u001b[0m\u001b[0m\n\u001b[1;32m      2\u001b[0m \u001b[0;32mprint\u001b[0m\u001b[0;34m(\u001b[0m\u001b[0msome_matrix\u001b[0m\u001b[0;34m)\u001b[0m\u001b[0;34m\u001b[0m\u001b[0m\n\u001b[0;32m----> 3\u001b[0;31m \u001b[0;32mprint\u001b[0m\u001b[0;34m(\u001b[0m\u001b[0;34m\"\\nvalue of some_matrix is:\\n\"\u001b[0m\u001b[0;34m,\u001b[0m \u001b[0msome_matrix\u001b[0m\u001b[0;34m.\u001b[0m\u001b[0mnumpy\u001b[0m\u001b[0;34m(\u001b[0m\u001b[0;34m)\u001b[0m\u001b[0;34m)\u001b[0m\u001b[0;34m\u001b[0m\u001b[0m\n\u001b[0m",
            "\u001b[0;31mAttributeError\u001b[0m: 'Tensor' object has no attribute 'numpy'"
          ]
        }
      ]
    },
    {
      "metadata": {
        "colab_type": "text",
        "id": "fVvaXzzMGZid"
      },
      "cell_type": "markdown",
      "source": [
        "### Tensor Shapes\n",
        "\n",
        "Shapes are used to characterize the size and number of dimensions of a tensor. The shape of a tensor is expressed as `list`, with the `i`th element representing the size along dimension `i`. The length of the list then indicates the rank of the tensor (i.e., the number of dimensions).\n",
        "\n",
        "For more information, see the [TensorFlow documentation](https://www.tensorflow.org/programmers_guide/tensors#shape).\n",
        "\n",
        "A few basic examples:"
      ]
    },
    {
      "metadata": {
        "colab_type": "code",
        "id": "PWzvJnIAH_cF",
        "colab": {
          "base_uri": "https://localhost:8080/",
          "height": 134
        },
        "outputId": "f1837638-359c-4d3f-c2ca-c639c10f00cf"
      },
      "cell_type": "code",
      "source": [
        "# A scalar (0-D tensor).\n",
        "scalar = tf.zeros([])\n",
        "\n",
        "# A vector with 3 elements.\n",
        "vector = tf.zeros([3])\n",
        "\n",
        "# A matrix with 2 rows and 3 columns.\n",
        "matrix = tf.zeros([2, 3])\n",
        "\n",
        "print('scalar has shape', scalar.get_shape(), 'and value:\\n', scalar.numpy())\n",
        "print('vector has shape', vector.get_shape(), 'and value:\\n', vector.numpy())\n",
        "print('matrix has shape', matrix.get_shape(), 'and value:\\n', matrix.numpy())"
      ],
      "execution_count": 4,
      "outputs": [
        {
          "output_type": "stream",
          "text": [
            "scalar has shape () and value:\n",
            " 0.0\n",
            "vector has shape (3,) and value:\n",
            " [0. 0. 0.]\n",
            "matrix has shape (2, 3) and value:\n",
            " [[0. 0. 0.]\n",
            " [0. 0. 0.]]\n"
          ],
          "name": "stdout"
        }
      ]
    },
    {
      "metadata": {
        "colab_type": "text",
        "id": "musamrLavR5S"
      },
      "cell_type": "markdown",
      "source": [
        "### Broadcasting\n",
        "\n",
        "In mathematics, you can only perform element-wise operations (e.g. *add* and *equals*) on tensors of the same shape. In TensorFlow, however, you may perform operations on tensors that would traditionally have been incompatible. TensorFlow supports **broadcasting** (a concept borrowed from numpy), where the smaller array in an element-wise operation is enlarged to have the same shape as the larger array. For example, via broadcasting:\n",
        "\n",
        "* If an operand requires a size `[6]` tensor, a size `[1]` or a size `[]` tensor can serve as an operand.\n",
        "* If an operation requires a size `[4, 6]` tensor, any of the following sizes can serve as an operand:\n",
        "  * `[1, 6]`\n",
        "  * `[6]`\n",
        "  * `[]`\n",
        "* If an operation requires a size `[3, 5, 6]` tensor, any of the following sizes can serve as an operand:\n",
        "\n",
        "  * `[1, 5, 6]`\n",
        "  * `[3, 1, 6]`\n",
        "  * `[3, 5, 1]`\n",
        "  * `[1, 1, 1]`\n",
        "  * `[5, 6]`\n",
        "  * `[1, 6]`\n",
        "  * `[6]`\n",
        "  * `[1]`\n",
        "  * `[]`\n",
        "\n",
        "**NOTE:** When a tensor is broadcast, its entries are conceptually **copied**. (They are not actually copied for performance reasons. Broadcasting was invented as a performance optimization.)\n",
        "\n",
        "The full broadcasting ruleset is well described in the easy-to-read [numpy broadcasting documentation](http://docs.scipy.org/doc/numpy-1.10.1/user/basics.broadcasting.html).\n",
        "\n",
        "The following code performs the same tensor arithmetic as before, but instead uses scalar values (instead of vectors containing all `1`s or all `2`s) and broadcasting."
      ]
    },
    {
      "metadata": {
        "colab_type": "code",
        "id": "7lys_BeLy2SD",
        "colab": {
          "base_uri": "https://localhost:8080/",
          "height": 84
        },
        "outputId": "8c249485-9cec-4443-a48a-1598435711ac"
      },
      "cell_type": "code",
      "source": [
        "primes = tf.constant([2, 3, 5, 7, 11, 13], dtype=tf.int32)\n",
        "print(\"primes:\", primes)\n",
        "\n",
        "one = tf.constant(1, dtype=tf.int32)\n",
        "print(\"one:\", one)\n",
        "\n",
        "just_beyond_primes = tf.add(primes, one)\n",
        "print(\"just_beyond_primes:\", just_beyond_primes)\n",
        "\n",
        "two = tf.constant(2, dtype=tf.int32)\n",
        "primes_doubled = primes * two\n",
        "print(\"primes_doubled:\", primes_doubled)"
      ],
      "execution_count": 5,
      "outputs": [
        {
          "output_type": "stream",
          "text": [
            "primes: tf.Tensor([ 2  3  5  7 11 13], shape=(6,), dtype=int32)\n",
            "one: tf.Tensor(1, shape=(), dtype=int32)\n",
            "just_beyond_primes: tf.Tensor([ 3  4  6  8 12 14], shape=(6,), dtype=int32)\n",
            "primes_doubled: tf.Tensor([ 4  6 10 14 22 26], shape=(6,), dtype=int32)\n"
          ],
          "name": "stdout"
        }
      ]
    },
    {
      "metadata": {
        "colab_type": "text",
        "id": "FPBzBzRROxwe"
      },
      "cell_type": "markdown",
      "source": [
        "### Exercise #1: Arithmetic over vectors.\n",
        "\n",
        "Perform vector arithmetic to create a \"just_under_primes_squared\" vector, where the `i`th element is equal to the `i`th element in `primes` squared, minus 1.  For example, the second element would be equal to `3 * 3 - 1 = 8`.\n",
        "\n",
        "Make use of either the `tf.multiply` or `tf.pow` ops to square the value of each element in the `primes` vector."
      ]
    },
    {
      "metadata": {
        "colab_type": "code",
        "id": "pWK2rAttQlD6",
        "colab": {
          "base_uri": "https://localhost:8080/",
          "height": 34
        },
        "outputId": "4ef640e2-8196-49ff-e44c-136dd744eab5"
      },
      "cell_type": "code",
      "source": [
        "# Write your code for Task 1 here.\n",
        "just_under_primes_squared = tf.multiply(primes, primes) - 1\n",
        "print(\"just_under_primes_squared:\", just_under_primes_squared)"
      ],
      "execution_count": 7,
      "outputs": [
        {
          "output_type": "stream",
          "text": [
            "just_under_primes_squared: tf.Tensor([  3   8  24  48 120 168], shape=(6,), dtype=int32)\n"
          ],
          "name": "stdout"
        }
      ]
    },
    {
      "metadata": {
        "colab_type": "text",
        "id": "7d1kfAx4QL17"
      },
      "cell_type": "markdown",
      "source": [
        "### Solution\n",
        "\n",
        "Click below for a solution."
      ]
    },
    {
      "metadata": {
        "colab_type": "code",
        "id": "QUgHSI9BOUx7",
        "colab": {}
      },
      "cell_type": "code",
      "source": [
        "# Task: Square each element in the primes vector, then subtract 1.\n",
        "\n",
        "def solution(primes):\n",
        "  primes_squared = tf.multiply(primes, primes)\n",
        "  neg_one = tf.constant(-1, dtype=tf.int32)\n",
        "  just_under_primes_squared = tf.add(primes_squared, neg_one)\n",
        "  return just_under_primes_squared\n",
        "\n",
        "def alternative_solution(primes):\n",
        "  primes_squared = tf.pow(primes, 2)\n",
        "  one = tf.constant(1, dtype=tf.int32)\n",
        "  just_under_primes_squared = tf.subtract(primes_squared, one)\n",
        "  return just_under_primes_squared\n",
        "\n",
        "primes = tf.constant([2, 3, 5, 7, 11, 13], dtype=tf.int32)\n",
        "just_under_primes_squared = solution(primes)\n",
        "print(\"just_under_primes_squared:\", just_under_primes_squared)"
      ],
      "execution_count": 0,
      "outputs": []
    },
    {
      "metadata": {
        "colab_type": "text",
        "id": "it0P-AV0-Jb4"
      },
      "cell_type": "markdown",
      "source": [
        "## Matrix Multiplication\n",
        "\n",
        "In linear algebra, when multiplying two matrices, the number of *columns* of the first matrix must\n",
        "equal the number of *rows* in the second matrix.\n",
        "\n",
        "- It is **_valid_** to multiply a `3x4` matrix by a `4x2` matrix. This will result in a `3x2` matrix.\n",
        "- It is **_invalid_** to multiply a `4x2` matrix by a `3x4` matrix."
      ]
    },
    {
      "metadata": {
        "colab_type": "code",
        "id": "OVR8QPif-MeS",
        "colab": {
          "base_uri": "https://localhost:8080/",
          "height": 84
        },
        "outputId": "7a9e3f10-8345-4f34-e897-2630756496d5"
      },
      "cell_type": "code",
      "source": [
        "# A 3x4 matrix (2-d tensor).\n",
        "x = tf.constant([[5, 2, 4, 3], [5, 1, 6, -2], [-1, 3, -1, -2]],\n",
        "                dtype=tf.int32)\n",
        "\n",
        "# A 4x2 matrix (2-d tensor).\n",
        "y = tf.constant([[2, 2], [3, 5], [4, 5], [1, 6]], dtype=tf.int32)\n",
        "\n",
        "# Multiply `x` by `y`; result is 3x2 matrix.\n",
        "matrix_multiply_result = tf.matmul(x, y)\n",
        "\n",
        "print(matrix_multiply_result)"
      ],
      "execution_count": 8,
      "outputs": [
        {
          "output_type": "stream",
          "text": [
            "tf.Tensor(\n",
            "[[35 58]\n",
            " [35 33]\n",
            " [ 1 -4]], shape=(3, 2), dtype=int32)\n"
          ],
          "name": "stdout"
        }
      ]
    },
    {
      "metadata": {
        "colab_type": "text",
        "id": "fziRnmuy-O9x"
      },
      "cell_type": "markdown",
      "source": [
        "## Tensor Reshaping\n",
        "\n",
        "With tensor addition and matrix multiplication each imposing constraints\n",
        "on operands, TensorFlow programmers must frequently reshape tensors. \n",
        "\n",
        "You can use the `tf.reshape` method to reshape a tensor. \n",
        "For example, you can reshape a 8x2 tensor into a 2x8 tensor or a 4x4 tensor:"
      ]
    },
    {
      "metadata": {
        "colab_type": "code",
        "id": "L05ob6a_G77m",
        "colab": {
          "base_uri": "https://localhost:8080/",
          "height": 302
        },
        "outputId": "41fa25e3-9d4d-466d-8444-4be4e203d36a"
      },
      "cell_type": "code",
      "source": [
        "# Create an 8x2 matrix (2-D tensor).\n",
        "matrix = tf.constant(\n",
        "    [[1, 2], [3, 4], [5, 6], [7, 8], [9, 10], [11, 12], [13, 14], [15, 16]],\n",
        "    dtype=tf.int32)\n",
        "\n",
        "reshaped_2x8_matrix = tf.reshape(matrix, [2, 8])\n",
        "reshaped_4x4_matrix = tf.reshape(matrix, [4, 4])\n",
        "\n",
        "print(\"Original matrix (8x2):\")\n",
        "print(matrix.numpy())\n",
        "print(\"Reshaped matrix (2x8):\")\n",
        "print(reshaped_2x8_matrix.numpy())\n",
        "print(\"Reshaped matrix (4x4):\")\n",
        "print(reshaped_4x4_matrix.numpy())"
      ],
      "execution_count": 9,
      "outputs": [
        {
          "output_type": "stream",
          "text": [
            "Original matrix (8x2):\n",
            "[[ 1  2]\n",
            " [ 3  4]\n",
            " [ 5  6]\n",
            " [ 7  8]\n",
            " [ 9 10]\n",
            " [11 12]\n",
            " [13 14]\n",
            " [15 16]]\n",
            "Reshaped matrix (2x8):\n",
            "[[ 1  2  3  4  5  6  7  8]\n",
            " [ 9 10 11 12 13 14 15 16]]\n",
            "Reshaped matrix (4x4):\n",
            "[[ 1  2  3  4]\n",
            " [ 5  6  7  8]\n",
            " [ 9 10 11 12]\n",
            " [13 14 15 16]]\n"
          ],
          "name": "stdout"
        }
      ]
    },
    {
      "metadata": {
        "colab_type": "text",
        "id": "b6cFa92YGyU5"
      },
      "cell_type": "markdown",
      "source": [
        "\n",
        "You can also use `tf.reshape` to change the number of dimensions (the \"rank\") of the tensor.\n",
        "For example, you could reshape that 8x2 tensor into a 3-D 2x2x4 tensor or a 1-D 16-element tensor."
      ]
    },
    {
      "metadata": {
        "colab_type": "code",
        "id": "3MpcwWj9-Sqp",
        "colab": {
          "base_uri": "https://localhost:8080/",
          "height": 302
        },
        "outputId": "62b189b1-5f1e-4be4-87ab-f81a4b6a1a08"
      },
      "cell_type": "code",
      "source": [
        "# Create an 8x2 matrix (2-D tensor).\n",
        "matrix = tf.constant(\n",
        "    [[1, 2], [3, 4], [5, 6], [7, 8], [9, 10], [11, 12], [13, 14], [15, 16]],\n",
        "    dtype=tf.int32)\n",
        "\n",
        "reshaped_2x2x4_tensor = tf.reshape(matrix, [2, 2, 4])\n",
        "one_dimensional_vector = tf.reshape(matrix, [16])\n",
        "\n",
        "print(\"Original matrix (8x2):\")\n",
        "print(matrix.numpy())\n",
        "print(\"Reshaped 3-D tensor (2x2x4):\")\n",
        "print(reshaped_2x2x4_tensor.numpy())\n",
        "print(\"1-D vector:\")\n",
        "print(one_dimensional_vector.numpy())"
      ],
      "execution_count": 10,
      "outputs": [
        {
          "output_type": "stream",
          "text": [
            "Original matrix (8x2):\n",
            "[[ 1  2]\n",
            " [ 3  4]\n",
            " [ 5  6]\n",
            " [ 7  8]\n",
            " [ 9 10]\n",
            " [11 12]\n",
            " [13 14]\n",
            " [15 16]]\n",
            "Reshaped 3-D tensor (2x2x4):\n",
            "[[[ 1  2  3  4]\n",
            "  [ 5  6  7  8]]\n",
            "\n",
            " [[ 9 10 11 12]\n",
            "  [13 14 15 16]]]\n",
            "1-D vector:\n",
            "[ 1  2  3  4  5  6  7  8  9 10 11 12 13 14 15 16]\n"
          ],
          "name": "stdout"
        }
      ]
    },
    {
      "metadata": {
        "colab_type": "text",
        "id": "CrpowaWo-VLq"
      },
      "cell_type": "markdown",
      "source": [
        "### Exercise #2: Reshape two tensors in order to multiply them.\n",
        "\n",
        "The following two vectors are incompatible for matrix multiplication:\n",
        "\n",
        "  *  `a = tf.constant([5, 3, 2, 7, 1, 4])`\n",
        "  *  `b = tf.constant([4, 6, 3])`\n",
        "\n",
        "Reshape these vectors into compatible operands for matrix multiplication.\n",
        "Then, invoke a matrix multiplication operation on the reshaped tensors."
      ]
    },
    {
      "metadata": {
        "colab_type": "code",
        "id": "p6idvaeK-Zxq",
        "colab": {
          "base_uri": "https://localhost:8080/",
          "height": 185
        },
        "outputId": "75bf0be8-8c15-40c1-bbc2-b8397b7101bb"
      },
      "cell_type": "code",
      "source": [
        "# Write your code for Task 2 here.\n",
        "a = tf.constant([5, 3, 2, 7, 1, 4])\n",
        "b = tf.constant([4, 6, 3])\n",
        "\n",
        "a_reshaped = tf.reshape(a, [2,3])\n",
        "print(\"reshaped matrix a:\")\n",
        "print(a_reshaped.numpy())\n",
        "\n",
        "b_reshaped = tf.reshape(b, [3,1])\n",
        "print(\"reshaped matrix b:\")\n",
        "print(b_reshaped.numpy())\n",
        "\n",
        "a_b_multiplication = tf.matmul(a_reshaped, b_reshaped)\n",
        "print(\"multiplication after reshaping:\")\n",
        "print(a_b_multiplication.numpy())"
      ],
      "execution_count": 17,
      "outputs": [
        {
          "output_type": "stream",
          "text": [
            "reshaped matrix a:\n",
            "[[5 3 2]\n",
            " [7 1 4]]\n",
            "reshaped matrix b:\n",
            "[[4]\n",
            " [6]\n",
            " [3]]\n",
            "multiplication after reshaping:\n",
            "[[44]\n",
            " [46]]\n"
          ],
          "name": "stdout"
        }
      ]
    },
    {
      "metadata": {
        "colab_type": "text",
        "id": "EYzU56M4MG_x"
      },
      "cell_type": "markdown",
      "source": [
        "### Solution\n",
        "\n",
        "Click below for a solution."
      ]
    },
    {
      "metadata": {
        "colab_type": "text",
        "id": "F9HDdiugJKpH"
      },
      "cell_type": "markdown",
      "source": [
        "Remember, when multiplying two matrices, the number of *columns* of the first matrix must equal the number of *rows* in the second matrix.\n",
        "\n",
        "One possible solution is to reshape `a` into a 2x3 matrix and reshape `b` into a a 3x1 matrix, resulting in a 2x1 matrix after multiplication:"
      ]
    },
    {
      "metadata": {
        "colab_type": "code",
        "id": "8Sef4d0SMMtk",
        "colab": {
          "base_uri": "https://localhost:8080/",
          "height": 185
        },
        "outputId": "4cd79cf1-797e-4a82-8738-6b799733fa4d"
      },
      "cell_type": "code",
      "source": [
        "# Task: Reshape two tensors in order to multiply them\n",
        "\n",
        "a = tf.constant([5, 3, 2, 7, 1, 4])\n",
        "b = tf.constant([4, 6, 3])\n",
        "\n",
        "reshaped_a = tf.reshape(a, [2, 3])\n",
        "reshaped_b = tf.reshape(b, [3, 1])\n",
        "c = tf.matmul(reshaped_a, reshaped_b)\n",
        "\n",
        "print(\"reshaped_a (2x3):\")\n",
        "print(reshaped_a.numpy())\n",
        "print(\"reshaped_b (3x1):\")\n",
        "print(reshaped_b.numpy())\n",
        "print(\"reshaped_a x reshaped_b (2x1):\")\n",
        "print(c.numpy())"
      ],
      "execution_count": 14,
      "outputs": [
        {
          "output_type": "stream",
          "text": [
            "reshaped_a (2x3):\n",
            "[[5 3 2]\n",
            " [7 1 4]]\n",
            "reshaped_b (3x1):\n",
            "[[4]\n",
            " [6]\n",
            " [3]]\n",
            "reshaped_a x reshaped_b (2x1):\n",
            "[[44]\n",
            " [46]]\n"
          ],
          "name": "stdout"
        }
      ]
    },
    {
      "metadata": {
        "colab_type": "text",
        "id": "uDZSacTxJ0XG"
      },
      "cell_type": "markdown",
      "source": [
        "An alternative solution would be to reshape `a` into a 6x1 matrix and `b` into a 1x3 matrix, resulting in a 6x3 matrix after multiplication."
      ]
    },
    {
      "metadata": {
        "colab_type": "text",
        "id": "x1JYo7iE2oKk"
      },
      "cell_type": "markdown",
      "source": [
        "## Variables, Initialization and Assignment\n",
        "\n",
        "So far, all the operations we performed were on static values (`tf.constant`); calling `numpy()` always returned the same result. TensorFlow allows you to define `Variable` objects, whose values can be changed.\n",
        "\n",
        "When creating a variable, you can set an initial value explicitly, or you can use an initializer (like a distribution):"
      ]
    },
    {
      "metadata": {
        "colab_type": "code",
        "id": "6opLnjfD3PdL",
        "colab": {
          "base_uri": "https://localhost:8080/",
          "height": 50
        },
        "outputId": "973139a0-876e-4323-ac42-04b64817797a"
      },
      "cell_type": "code",
      "source": [
        "# Create a scalar variable with the initial value 3.\n",
        "v = tf.contrib.eager.Variable([3])\n",
        "\n",
        "# Create a vector variable of shape [1, 4], with random initial values,\n",
        "# sampled from a normal distribution with mean 1 and standard deviation 0.35.\n",
        "w = tf.contrib.eager.Variable(tf.random_normal([1, 4], mean=1.0, stddev=0.35))\n",
        "\n",
        "print(\"v:\", v.numpy())\n",
        "print(\"w:\", w.numpy())"
      ],
      "execution_count": 18,
      "outputs": [
        {
          "output_type": "stream",
          "text": [
            "v: [3]\n",
            "w: [[0.40785402 1.6160731  0.7718068  0.6689018 ]]\n"
          ],
          "name": "stdout"
        }
      ]
    },
    {
      "metadata": {
        "colab_type": "text",
        "id": "yrZ31hPw66uy"
      },
      "cell_type": "markdown",
      "source": [
        "To change the value of a variable, use the `assign` op:"
      ]
    },
    {
      "metadata": {
        "colab_type": "code",
        "id": "zD0D1DCR7NBX",
        "colab": {
          "base_uri": "https://localhost:8080/",
          "height": 67
        },
        "outputId": "94c90b3e-6427-4e9e-d77d-cf10e4a166b5"
      },
      "cell_type": "code",
      "source": [
        "v = tf.contrib.eager.Variable([3])\n",
        "print(v.numpy())\n",
        "\n",
        "tf.assign(v, [7])\n",
        "print(v.numpy())\n",
        "\n",
        "v.assign([5])\n",
        "print(v.numpy())"
      ],
      "execution_count": 19,
      "outputs": [
        {
          "output_type": "stream",
          "text": [
            "[3]\n",
            "[7]\n",
            "[5]\n"
          ],
          "name": "stdout"
        }
      ]
    },
    {
      "metadata": {
        "colab_type": "text",
        "id": "HQvQCZvuLKfY"
      },
      "cell_type": "markdown",
      "source": [
        "When assigning a new value to a variable, its shape must be equal to its previous shape:"
      ]
    },
    {
      "metadata": {
        "colab_type": "code",
        "id": "AoSJFAlkLHTX",
        "colab": {
          "base_uri": "https://localhost:8080/",
          "height": 347
        },
        "outputId": "a6a570e3-fe3a-48af-9625-3ef825203f27"
      },
      "cell_type": "code",
      "source": [
        "v = tf.contrib.eager.Variable([[1, 2, 3], [4, 5, 6]])\n",
        "print(v.numpy())\n",
        "\n",
        "try:\n",
        "  print(\"Assigning [7, 8, 9] to v\")\n",
        "  v.assign([7, 8, 9])\n",
        "except ValueError as e:\n",
        "  print(\"Exception:\", e)"
      ],
      "execution_count": 4,
      "outputs": [
        {
          "output_type": "error",
          "ename": "NotImplementedError",
          "evalue": "ignored",
          "traceback": [
            "\u001b[0;31m\u001b[0m",
            "\u001b[0;31mNotImplementedError\u001b[0mTraceback (most recent call last)",
            "\u001b[0;32m<ipython-input-4-23fb422d7745>\u001b[0m in \u001b[0;36m<module>\u001b[0;34m()\u001b[0m\n\u001b[1;32m      1\u001b[0m \u001b[0mv\u001b[0m \u001b[0;34m=\u001b[0m \u001b[0mtf\u001b[0m\u001b[0;34m.\u001b[0m\u001b[0mcontrib\u001b[0m\u001b[0;34m.\u001b[0m\u001b[0meager\u001b[0m\u001b[0;34m.\u001b[0m\u001b[0mVariable\u001b[0m\u001b[0;34m(\u001b[0m\u001b[0;34m[\u001b[0m\u001b[0;34m[\u001b[0m\u001b[0;36m1\u001b[0m\u001b[0;34m,\u001b[0m \u001b[0;36m2\u001b[0m\u001b[0;34m,\u001b[0m \u001b[0;36m3\u001b[0m\u001b[0;34m]\u001b[0m\u001b[0;34m,\u001b[0m \u001b[0;34m[\u001b[0m\u001b[0;36m4\u001b[0m\u001b[0;34m,\u001b[0m \u001b[0;36m5\u001b[0m\u001b[0;34m,\u001b[0m \u001b[0;36m6\u001b[0m\u001b[0;34m]\u001b[0m\u001b[0;34m]\u001b[0m\u001b[0;34m)\u001b[0m\u001b[0;34m\u001b[0m\u001b[0m\n\u001b[0;32m----> 2\u001b[0;31m \u001b[0;32mprint\u001b[0m\u001b[0;34m(\u001b[0m\u001b[0mv\u001b[0m\u001b[0;34m.\u001b[0m\u001b[0mnumpy\u001b[0m\u001b[0;34m(\u001b[0m\u001b[0;34m)\u001b[0m\u001b[0;34m)\u001b[0m\u001b[0;34m\u001b[0m\u001b[0m\n\u001b[0m\u001b[1;32m      3\u001b[0m \u001b[0;34m\u001b[0m\u001b[0m\n\u001b[1;32m      4\u001b[0m \u001b[0;32mtry\u001b[0m\u001b[0;34m:\u001b[0m\u001b[0;34m\u001b[0m\u001b[0m\n\u001b[1;32m      5\u001b[0m   \u001b[0;32mprint\u001b[0m\u001b[0;34m(\u001b[0m\u001b[0;34m\"Assigning [7, 8, 9] to v\"\u001b[0m\u001b[0;34m)\u001b[0m\u001b[0;34m\u001b[0m\u001b[0m\n",
            "\u001b[0;32m/usr/local/lib/python2.7/dist-packages/tensorflow/python/ops/resource_variable_ops.pyc\u001b[0m in \u001b[0;36mnumpy\u001b[0;34m(self)\u001b[0m\n\u001b[1;32m    685\u001b[0m       \u001b[0;32mreturn\u001b[0m \u001b[0mself\u001b[0m\u001b[0;34m.\u001b[0m\u001b[0mread_value\u001b[0m\u001b[0;34m(\u001b[0m\u001b[0;34m)\u001b[0m\u001b[0;34m.\u001b[0m\u001b[0mnumpy\u001b[0m\u001b[0;34m(\u001b[0m\u001b[0;34m)\u001b[0m\u001b[0;34m\u001b[0m\u001b[0m\n\u001b[1;32m    686\u001b[0m     raise NotImplementedError(\n\u001b[0;32m--> 687\u001b[0;31m         \"numpy() is only available when eager execution is enabled.\")\n\u001b[0m\u001b[1;32m    688\u001b[0m \u001b[0;34m\u001b[0m\u001b[0m\n\u001b[1;32m    689\u001b[0m   \u001b[0;32mdef\u001b[0m \u001b[0mcount_up_to\u001b[0m\u001b[0;34m(\u001b[0m\u001b[0mself\u001b[0m\u001b[0;34m,\u001b[0m \u001b[0mlimit\u001b[0m\u001b[0;34m)\u001b[0m\u001b[0;34m:\u001b[0m\u001b[0;34m\u001b[0m\u001b[0m\n",
            "\u001b[0;31mNotImplementedError\u001b[0m: numpy() is only available when eager execution is enabled."
          ]
        }
      ]
    },
    {
      "metadata": {
        "colab_type": "text",
        "id": "tB78Zq4h78Zr"
      },
      "cell_type": "markdown",
      "source": [
        "There are many more topics about variables that we didn't cover here, such as loading and storing. To learn more, see the [TensorFlow docs](https://www.tensorflow.org/programmers_guide/variables)."
      ]
    },
    {
      "metadata": {
        "colab_type": "text",
        "id": "iFIOcnfz_Oqw"
      },
      "cell_type": "markdown",
      "source": [
        "### Exercise #3: Simulate 10 rolls of two dice.\n",
        "\n",
        "Create a dice simulation, which generates a `10x3` 2-D tensor in which:\n",
        "\n",
        "  * Columns `1` and `2` each hold one throw of one six-sided die (with values 1–6).\n",
        "  * Column `3` holds the sum of Columns `1` and `2` on the same row.\n",
        "\n",
        "For example, the first row might have the following values:\n",
        "\n",
        "  * Column `1` holds `4`\n",
        "  * Column `2` holds `3`\n",
        "  * Column `3` holds `7`\n",
        "\n",
        "You'll need to explore the [TensorFlow API reference](https://www.tensorflow.org/api_docs/python/tf) to solve this task."
      ]
    },
    {
      "metadata": {
        "colab_type": "code",
        "id": "ocwT0iXH-nhT",
        "colab": {
          "base_uri": "https://localhost:8080/",
          "height": 230
        },
        "outputId": "5e8e8bae-e93a-4d83-ddc6-c2487d7b1e5a"
      },
      "cell_type": "code",
      "source": [
        "# Write your code for Task 3 here.\n",
        "import tensorflow as tf\n",
        "ini = tf.zeros([10,3])\n",
        "mat = tf.contrib.eager.Variable(ini.numpy())\n",
        "print(\"initialization:\")\n",
        "print(mat.numpy())\n",
        "\n",
        "dice_1 = tf.random.uniform([10,1], minval=1, maxval=7, dtype=tf.int32)\n",
        "print(dice_1.numpy())\n",
        "#mat[:,0].assign(dice_1)\n",
        "#print(mat.numpy())"
      ],
      "execution_count": 3,
      "outputs": [
        {
          "output_type": "error",
          "ename": "AttributeError",
          "evalue": "ignored",
          "traceback": [
            "\u001b[0;31m\u001b[0m",
            "\u001b[0;31mAttributeError\u001b[0mTraceback (most recent call last)",
            "\u001b[0;32m<ipython-input-3-55ec4baaeb28>\u001b[0m in \u001b[0;36m<module>\u001b[0;34m()\u001b[0m\n\u001b[1;32m      1\u001b[0m \u001b[0;32mimport\u001b[0m \u001b[0mtensorflow\u001b[0m \u001b[0;32mas\u001b[0m \u001b[0mtf\u001b[0m\u001b[0;34m\u001b[0m\u001b[0m\n\u001b[1;32m      2\u001b[0m \u001b[0mini\u001b[0m \u001b[0;34m=\u001b[0m \u001b[0mtf\u001b[0m\u001b[0;34m.\u001b[0m\u001b[0mzeros\u001b[0m\u001b[0;34m(\u001b[0m\u001b[0;34m[\u001b[0m\u001b[0;36m10\u001b[0m\u001b[0;34m,\u001b[0m\u001b[0;36m3\u001b[0m\u001b[0;34m]\u001b[0m\u001b[0;34m)\u001b[0m\u001b[0;34m\u001b[0m\u001b[0m\n\u001b[0;32m----> 3\u001b[0;31m \u001b[0mmat\u001b[0m \u001b[0;34m=\u001b[0m \u001b[0mtf\u001b[0m\u001b[0;34m.\u001b[0m\u001b[0mcontrib\u001b[0m\u001b[0;34m.\u001b[0m\u001b[0meager\u001b[0m\u001b[0;34m.\u001b[0m\u001b[0mVariable\u001b[0m\u001b[0;34m(\u001b[0m\u001b[0mini\u001b[0m\u001b[0;34m.\u001b[0m\u001b[0mnumpy\u001b[0m\u001b[0;34m(\u001b[0m\u001b[0;34m)\u001b[0m\u001b[0;34m)\u001b[0m\u001b[0;34m\u001b[0m\u001b[0m\n\u001b[0m\u001b[1;32m      4\u001b[0m \u001b[0;32mprint\u001b[0m\u001b[0;34m(\u001b[0m\u001b[0;34m\"initialization:\"\u001b[0m\u001b[0;34m)\u001b[0m\u001b[0;34m\u001b[0m\u001b[0m\n\u001b[1;32m      5\u001b[0m \u001b[0;32mprint\u001b[0m\u001b[0;34m(\u001b[0m\u001b[0mmat\u001b[0m\u001b[0;34m.\u001b[0m\u001b[0mnumpy\u001b[0m\u001b[0;34m(\u001b[0m\u001b[0;34m)\u001b[0m\u001b[0;34m)\u001b[0m\u001b[0;34m\u001b[0m\u001b[0m\n",
            "\u001b[0;31mAttributeError\u001b[0m: 'Tensor' object has no attribute 'numpy'"
          ]
        }
      ]
    },
    {
      "metadata": {
        "colab_type": "text",
        "id": "Kt7aojXkR_qS"
      },
      "cell_type": "markdown",
      "source": [
        "### Solution\n",
        "\n",
        "Click below for a solution."
      ]
    },
    {
      "metadata": {
        "colab_type": "text",
        "id": "6kRkwXE1MHVS"
      },
      "cell_type": "markdown",
      "source": [
        "We're going to place dice throws inside two separate 10x1 matrices, `die1` and `die2`.  The summation of the dice rolls will be stored in `dice_sum`, then the resulting 10x3 matrix will be created by *concatenating* the three 10x1 matrices together into a single matrix.\n",
        "\n",
        "Alternatively, we could have placed dice throws inside a single 10x2 matrix, but adding different columns of the same matrix would be more complicated. We also could have placed dice throws inside two 1-D tensors (vectors), but doing so would require transposing the result."
      ]
    },
    {
      "metadata": {
        "colab_type": "code",
        "id": "6UUluecQSCvr",
        "colab": {}
      },
      "cell_type": "code",
      "source": [
        "# Task: Simulate 10 throws of two dice. Store the results in a 10x3 matrix.\n",
        "\n",
        "die1 = tf.contrib.eager.Variable(\n",
        "    tf.random_uniform([10, 1], minval=1, maxval=7, dtype=tf.int32))\n",
        "die2 = tf.contrib.eager.Variable(\n",
        "    tf.random_uniform([10, 1], minval=1, maxval=7, dtype=tf.int32))\n",
        "\n",
        "dice_sum = tf.add(die1, die2)\n",
        "resulting_matrix = tf.concat(values=[die1, die2, dice_sum], axis=1)\n",
        "\n",
        "print(resulting_matrix.numpy())"
      ],
      "execution_count": 0,
      "outputs": []
    }
  ]
}
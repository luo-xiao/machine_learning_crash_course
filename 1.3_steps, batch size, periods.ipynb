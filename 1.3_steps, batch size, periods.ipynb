{
 "cells": [
  {
   "cell_type": "markdown",
   "metadata": {},
   "source": [
    "# Common hyperparameters in Machine Learning Crash Course exercises\n",
    "Many of the coding exercises contain the following hyperparameters:\n",
    "\n",
    "steps, which is the total number of training iterations. One step calculates the loss from one batch and uses that value to modify the model's weights once.\n",
    "\n",
    "batch size, which is the number of examples (chosen at random) for a single step. For example, the batch size for SGD is 1.\n",
    "The following formula applies:\n",
    "\n",
    "                    total\\,number\\,of\\,trained\\,examples = batch\\,size * steps\n",
    "\n",
    "# A convenience variable in Machine Learning Crash Course exercises\n",
    "The following convenience variable appears in several exercises:\n",
    "\n",
    "periods, which controls the granularity of reporting. For example, if periods is set to 7 and steps is set to 70, then the exercise will output the loss value every 10 steps (or 7 times). Unlike hyperparameters, we don't expect you to modify the value of periods. Note that modifying periods does not alter what your model learns.\n",
    "The following formula applies:\n",
    "\n",
    "                number\\,of\\,training\\,examples\\,in\\,each\\,period = \\frac{batch\\,size * steps} {periods}\n",
    " "
   ]
  },
  {
   "cell_type": "code",
   "execution_count": null,
   "metadata": {},
   "outputs": [],
   "source": []
  }
 ],
 "metadata": {
  "kernelspec": {
   "display_name": "Python 3",
   "language": "python",
   "name": "python3"
  },
  "language_info": {
   "codemirror_mode": {
    "name": "ipython",
    "version": 3
   },
   "file_extension": ".py",
   "mimetype": "text/x-python",
   "name": "python",
   "nbconvert_exporter": "python",
   "pygments_lexer": "ipython3",
   "version": "3.7.1"
  }
 },
 "nbformat": 4,
 "nbformat_minor": 2
}
